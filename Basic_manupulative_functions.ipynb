{
 "cells": [
  {
   "cell_type": "code",
   "execution_count": 1,
   "id": "666a622d",
   "metadata": {},
   "outputs": [],
   "source": [
    "import cv2 as cv\n",
    "import numpy as np\n",
    "from cv2 import imwrite\n",
    "from cv2 import cvtColor"
   ]
  },
  {
   "cell_type": "code",
   "execution_count": 2,
   "id": "0a0f7b6c",
   "metadata": {},
   "outputs": [],
   "source": [
    "img = cv.imread(\"resources/image.jpg\")"
   ]
  },
  {
   "cell_type": "markdown",
   "id": "3d418b09",
   "metadata": {},
   "source": [
    "## Blured img"
   ]
  },
  {
   "cell_type": "code",
   "execution_count": 70,
   "id": "1067873f",
   "metadata": {},
   "outputs": [],
   "source": [
    "img = cv.resize(img,(400,300))  # resizing img\n",
    "gray_img= cvtColor(img,cv.COLOR_BGR2GRAY) #gray image\n",
    "blur_img = cv.GaussianBlur(gray_img,(31,31),0)\n",
    "mash_wind=np.hstack((gray_img,blur_img))\n",
    "cv.imshow(\"Windos\",img)\n",
    "cv.imshow(\"Gray\",gray_img)\n",
    "cv.imshow(\"Blur\",blur_img)\n",
    "cv.imshow(\"Window\",mash_wind)\n",
    "cv.waitKey(0)\n",
    "cv.destroyAllWindows()"
   ]
  },
  {
   "cell_type": "code",
   "execution_count": 8,
   "id": "3e7f1454",
   "metadata": {},
   "outputs": [],
   "source": [
    "cv.destroyAllWindows()"
   ]
  },
  {
   "cell_type": "markdown",
   "id": "7081701f",
   "metadata": {},
   "source": [
    "# Edge detection"
   ]
  },
  {
   "cell_type": "code",
   "execution_count": 71,
   "id": "31a391d3",
   "metadata": {},
   "outputs": [],
   "source": [
    "img = cv.imread(\"resources/image.jpg\")\n",
    "img= cv.resize(img,(600,600))\n",
    "#edge detection \n",
    "edge_img= cv.Canny(img, 48,48)\n",
    "cv.imshow(\"Edge\",edge_img)\n",
    "cv.waitKey(0)\n",
    "cv.destroyAllWindows()"
   ]
  },
  {
   "cell_type": "markdown",
   "id": "e3ac8c75",
   "metadata": {},
   "source": [
    "### Thickness of edges"
   ]
  },
  {
   "cell_type": "code",
   "execution_count": 5,
   "id": "aae4af88",
   "metadata": {},
   "outputs": [],
   "source": [
    "img=cv.imread(\"resources/image.jpg\")\n",
    "img=cv.resize(img,(600,600))\n",
    "img_edge= cv.Canny(img,51,52)\n",
    "cv.imshow(\"Edge\",img_edge)\n",
    "cv.waitKey(0)\n",
    "cv.destroyAllWindows()"
   ]
  },
  {
   "cell_type": "code",
   "execution_count": 17,
   "id": "e8842416",
   "metadata": {},
   "outputs": [],
   "source": [
    "img=cv.imread(\"resources/image.jpg\")\n",
    "resized_img=cv.resize(img,(600,600))\n",
    "edge_img=cv.Canny(resized_img,51,51)\n",
    "dilated_edges=cv.dilate(edge_img,(23,23),iterations=3)\n",
    "cv.imshow(\"Dilated\",dilated_edges)\n",
    "cv.imshow(\"Edges\",edge_img)\n",
    "cv.imshow(\"Original\",resized_img)\n",
    "cv.waitKey(0)\n",
    "cv.destroyAllWindows()"
   ]
  },
  {
   "cell_type": "code",
   "execution_count": 16,
   "id": "7d8ef490",
   "metadata": {},
   "outputs": [
    {
     "data": {
      "text/plain": [
       "array([[1., 1., 1., 1., 1., 1., 1.],\n",
       "       [1., 1., 1., 1., 1., 1., 1.],\n",
       "       [1., 1., 1., 1., 1., 1., 1.],\n",
       "       [1., 1., 1., 1., 1., 1., 1.],\n",
       "       [1., 1., 1., 1., 1., 1., 1.],\n",
       "       [1., 1., 1., 1., 1., 1., 1.],\n",
       "       [1., 1., 1., 1., 1., 1., 1.]])"
      ]
     },
     "execution_count": 16,
     "metadata": {},
     "output_type": "execute_result"
    }
   ],
   "source": [
    "np.ones((7,7),np.uint8)"
   ]
  },
  {
   "cell_type": "code",
   "execution_count": 32,
   "id": "0d9867f4",
   "metadata": {},
   "outputs": [],
   "source": [
    "mat_kernal=np.ones((3,3),np.uint8)"
   ]
  },
  {
   "cell_type": "code",
   "execution_count": 36,
   "id": "c3217bd8",
   "metadata": {},
   "outputs": [],
   "source": [
    "img=cv.imread(\"resources/image.jpg\")\n",
    "resized_img=cv.resize(img,(600,600))\n",
    "edge_img=cv.Canny(resized_img,47,47)\n",
    "dilated_edges=cv.dilate(edge_img,(mat_kernal),iterations=1)\n",
    "cv.imshow(\"Dilated\",dilated_edges)\n",
    "cv.imshow(\"Edges\",edge_img)\n",
    "cv.imshow(\"Original\",resized_img)\n",
    "cv.waitKey(0)\n",
    "cv.destroyAllWindows()"
   ]
  },
  {
   "cell_type": "markdown",
   "id": "92edac57",
   "metadata": {},
   "source": [
    "##### Dilation make thick , Erosion make thinner"
   ]
  },
  {
   "cell_type": "code",
   "execution_count": 73,
   "id": "7cef45c1",
   "metadata": {},
   "outputs": [],
   "source": [
    "mat_kernal=np.ones((4,4),np.uint8)\n",
    "img=cv.imread(\"resources/image.jpg\")\n",
    "img_resize=cv.resize(img,(500,500)) #resize\n",
    "edge_img=cv.Canny(img_resize,57,57) # edges\n",
    "dilate_img=cv.dilate(edge_img,(mat_kernal),iterations=1) #dilated/thicker\n",
    "erode_img=cv.erode(dilate_img,(mat_kernal),iterations=1)\n",
    "cv.imshow(\"Edgy\",edge_img)\n",
    "cv.imshow(\"Dilated\",dilate_img)\n",
    "cv.imshow(\"Eroded\",erode_img)\n",
    "cv.waitKey(0)\n",
    "cv.destroyAllWindows()"
   ]
  },
  {
   "cell_type": "markdown",
   "id": "e1e07082",
   "metadata": {},
   "source": [
    "### Croping image"
   ]
  },
  {
   "cell_type": "code",
   "execution_count": 79,
   "id": "12e1961e",
   "metadata": {},
   "outputs": [
    {
     "name": "stdout",
     "output_type": "stream",
     "text": [
      "(1350, 1080, 3)\n"
     ]
    }
   ],
   "source": [
    "img=cv.imread('resources/image.jpg')\n",
    "print(img.shape)\n",
    "img=cv.resize(img,(400,400))\n",
    "croped_img=img[200:400,200:] #First for y, second for x\n",
    "cv.imshow(\"Resized Image\",img)\n",
    "cv.imshow(\"Croped Image\",croped_img)\n",
    "cv.waitKey(0)\n",
    "cv.destroyAllWindows()"
   ]
  },
  {
   "cell_type": "code",
   "execution_count": 5,
   "id": "2f6a2269",
   "metadata": {},
   "outputs": [],
   "source": [
    "img=cv.imread('resources/image.jpg')\n",
    "img=cv.resize(img,(600,600))\n",
    "img_croped=img[300:,200:400]\n",
    "cv.imshow(\"Img\",img_croped)\n",
    "cv.imshow(\"Img1\",img)\n",
    "cv.waitKey(0)\n",
    "cv.destroyAllWindows()"
   ]
  },
  {
   "cell_type": "code",
   "execution_count": null,
   "id": "4d43fce5",
   "metadata": {},
   "outputs": [],
   "source": []
  }
 ],
 "metadata": {
  "kernelspec": {
   "display_name": "Python 3 (ipykernel)",
   "language": "python",
   "name": "python3"
  },
  "language_info": {
   "codemirror_mode": {
    "name": "ipython",
    "version": 3
   },
   "file_extension": ".py",
   "mimetype": "text/x-python",
   "name": "python",
   "nbconvert_exporter": "python",
   "pygments_lexer": "ipython3",
   "version": "3.10.2"
  }
 },
 "nbformat": 4,
 "nbformat_minor": 5
}
