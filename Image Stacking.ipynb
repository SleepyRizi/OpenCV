{
 "cells": [
  {
   "cell_type": "code",
   "execution_count": 1,
   "id": "599e27d3",
   "metadata": {},
   "outputs": [],
   "source": [
    "import cv2 as cv\n",
    "import numpy as np\n",
    "from cv2 import cvtColor\n",
    "from cv2 import imwrite"
   ]
  },
  {
   "cell_type": "code",
   "execution_count": 13,
   "id": "0e640180",
   "metadata": {},
   "outputs": [],
   "source": [
    "img=cv.imread(\"resources/image.jpg\")\n",
    "img=cv.resize(img,(600,600))\n",
    "gray_img= cv.cvtColor(img,cv.COLOR_BGR2GRAY)\n",
    "gray_bgr=cv.cvtColor(gray_img,cv.COLOR_GRAY2BGR)\n",
    "stacked_img=np.hstack((img,gray_bgr))\n",
    "cv.imshow(\"DesplayWindow\",img)\n",
    "cv.imshow(\"GrayDesplay\",gray_img)\n",
    "cv.imshow(\"Stacked\",stacked_img)\n",
    "cv.waitKey(0)\n",
    "cv.destroyAllWindows()"
   ]
  },
  {
   "cell_type": "code",
   "execution_count": 36,
   "id": "7e0ef9de",
   "metadata": {},
   "outputs": [
    {
     "data": {
      "text/plain": [
       "False"
      ]
     },
     "execution_count": 36,
     "metadata": {},
     "output_type": "execute_result"
    }
   ],
   "source": [
    "gray_img.shape[1]==True"
   ]
  },
  {
   "cell_type": "code",
   "execution_count": 40,
   "id": "aa2b6faf",
   "metadata": {},
   "outputs": [],
   "source": [
    "def stacking_img(size,images):\n",
    "    for i in enumerate(images):\n",
    "        cv.resize(images[i],(size*100,size*100))\n",
    "        cv.imshow(\"Window{}\".format(i),images[i])"
   ]
  },
  {
   "cell_type": "code",
   "execution_count": null,
   "id": "15688241",
   "metadata": {},
   "outputs": [],
   "source": [
    "stacking_img(4,[img,img,img,img])"
   ]
  },
  {
   "cell_type": "code",
   "execution_count": 42,
   "id": "2946d9b8",
   "metadata": {},
   "outputs": [],
   "source": [
    "def stackImage(scale, images):\n",
    "    width = images[0][0].shape[1]\n",
    "    height = images[0][0].shape[0]\n",
    "    ver = None\n",
    "    for img in images:\n",
    "        hor = None\n",
    "        for i in img:\n",
    "            if i.shape[:2] == images[0][0].shape[:2]:\n",
    "                i = cv2.resize(i, (0, 0), None, scale, scale)\n",
    "            else:\n",
    "                i = cv2.resize(i, (width, height), None, scale, scale)\n",
    "            if len(i.shape) == 2:\n",
    "                i = cv2.cvtColor(i, cv2.COLOR_GRAY2BGR)\n",
    "            if hor is not None:\n",
    "                hor = np.hstack((hor, i))\n",
    "            else:\n",
    "                hor = i\n",
    "        if ver is not None:\n",
    "            ver = np.vstack((ver, hor))\n",
    "        else:\n",
    "            ver = hor\n",
    "    return ver"
   ]
  },
  {
   "cell_type": "code",
   "execution_count": null,
   "id": "d2ea6000",
   "metadata": {},
   "outputs": [],
   "source": []
  }
 ],
 "metadata": {
  "kernelspec": {
   "display_name": "Python 3 (ipykernel)",
   "language": "python",
   "name": "python3"
  },
  "language_info": {
   "codemirror_mode": {
    "name": "ipython",
    "version": 3
   },
   "file_extension": ".py",
   "mimetype": "text/x-python",
   "name": "python",
   "nbconvert_exporter": "python",
   "pygments_lexer": "ipython3",
   "version": "3.10.2"
  }
 },
 "nbformat": 4,
 "nbformat_minor": 5
}
