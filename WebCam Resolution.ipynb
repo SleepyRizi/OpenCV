{
 "cells": [
  {
   "cell_type": "code",
   "execution_count": 1,
   "id": "2b43d740",
   "metadata": {},
   "outputs": [],
   "source": [
    "import cv2 as cv\n",
    "import numpy as np"
   ]
  },
  {
   "cell_type": "code",
   "execution_count": null,
   "id": "4fd5da18",
   "metadata": {},
   "outputs": [],
   "source": [
    "cap= cv.VideoCapture(0)\n",
    "cap.set(3,1280)\n",
    "cap.set(4,720)\n",
    "#HD 1280x720"
   ]
  },
  {
   "cell_type": "code",
   "execution_count": 2,
   "id": "9f6b7e11",
   "metadata": {},
   "outputs": [],
   "source": [
    "def hd_resolution():\n",
    "    cap=cv.VideoCapture(0)\n",
    "    cap.set(3,1280)\n",
    "    cap.set(4,720)\n",
    "    cap.set(cv.CAP_PROP_FPS,60)"
   ]
  },
  {
   "cell_type": "code",
   "execution_count": 3,
   "id": "989d4c69",
   "metadata": {},
   "outputs": [],
   "source": [
    "def sd_resolution():\n",
    "    cap=cv.VideoCapture(0)\n",
    "    cap.set(3,640)\n",
    "    cap.set(4,480)\n",
    "    cap.set(cv.CAP_PROP_FPS,60)"
   ]
  },
  {
   "cell_type": "code",
   "execution_count": 4,
   "id": "706cf1df",
   "metadata": {},
   "outputs": [],
   "source": [
    "def fhd_resolution(cap):\n",
    "    #cap=cv.VideoCapture(0)\n",
    "    cap.set(3,1920)\n",
    "    cap.set(4,1080)\n",
    "    cap.set(cv.CAP_PROP_FPS,60)"
   ]
  },
  {
   "cell_type": "code",
   "execution_count": 5,
   "id": "da2b159d",
   "metadata": {},
   "outputs": [],
   "source": [
    "cap=cv.VideoCapture(0)\n",
    "fhd_resolution(cap)\n",
    "while(True):\n",
    "    ret,frame=cap.read()\n",
    "    if ret== True:\n",
    "        frame_flip=cv.flip(frame,1)\n",
    "        cv.imshow(\"Window name\",frame_flip)\n",
    "        if cv.waitKey(1) & 0xff == ord('q'):\n",
    "            break\n",
    "    else:\n",
    "        print(\"Camera Not opened\")\n",
    "        break\n",
    "        \n",
    "cap.release()\n",
    "cv.destroyAllWindows()"
   ]
  },
  {
   "cell_type": "markdown",
   "id": "4f238460",
   "metadata": {},
   "source": [
    "#### Saving HD Video"
   ]
  },
  {
   "cell_type": "code",
   "execution_count": 6,
   "id": "eda02413",
   "metadata": {},
   "outputs": [],
   "source": [
    "cap=cv.VideoCapture(0)\n",
    "fhd_resolution(cap)\n",
    "cap_width=int(cap.get(3))\n",
    "cap_height=int(cap.get(4))\n",
    "out=cv.VideoWriter('resources/hd_webcam.mp4',cv.VideoWriter_fourcc('M','P','J','P'),60,(cap_width,cap_height))\n",
    "\n",
    "while(True):\n",
    "    ret, frame= cap.read()\n",
    "    if ret==True:\n",
    "        frame_flip=cv.flip(frame,1)\n",
    "        cv.imshow(\"Window\",frame_flip)\n",
    "        out.write(frame_flip)\n",
    "        if cv.waitKey(1) & 0xff == ord('q'):\n",
    "            break\n",
    "    else:\n",
    "        break\n",
    "        \n",
    "out.release()\n",
    "cap.release()\n",
    "cv.destroyAllWindows()"
   ]
  },
  {
   "cell_type": "code",
   "execution_count": 9,
   "id": "7e66adca",
   "metadata": {},
   "outputs": [],
   "source": [
    "cv.destroyAllWindows()"
   ]
  },
  {
   "cell_type": "code",
   "execution_count": null,
   "id": "e10af5af",
   "metadata": {},
   "outputs": [],
   "source": []
  }
 ],
 "metadata": {
  "kernelspec": {
   "display_name": "Python 3 (ipykernel)",
   "language": "python",
   "name": "python3"
  },
  "language_info": {
   "codemirror_mode": {
    "name": "ipython",
    "version": 3
   },
   "file_extension": ".py",
   "mimetype": "text/x-python",
   "name": "python",
   "nbconvert_exporter": "python",
   "pygments_lexer": "ipython3",
   "version": "3.10.2"
  }
 },
 "nbformat": 4,
 "nbformat_minor": 5
}
