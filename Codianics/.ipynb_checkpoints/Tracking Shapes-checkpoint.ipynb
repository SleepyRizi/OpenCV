{
 "cells": [
  {
   "cell_type": "code",
   "execution_count": 103,
   "id": "2a0dcf08",
   "metadata": {},
   "outputs": [],
   "source": [
    "import numpy as np\n",
    "import cv2 as cv\n",
    "from cv2 import cvtColor\n",
    "from cv2 import imwrite"
   ]
  },
  {
   "cell_type": "markdown",
   "id": "5d4a937d",
   "metadata": {},
   "source": [
    "#### Stacking image function"
   ]
  },
  {
   "cell_type": "code",
   "execution_count": 104,
   "id": "36f97cf0",
   "metadata": {},
   "outputs": [],
   "source": [
    " def stackImages(scale,imgArray):\n",
    "    rows = len(imgArray)\n",
    "    cols = len(imgArray[0])\n",
    "    rowsAvailable = isinstance(imgArray[0], list)\n",
    "    width = imgArray[0][0].shape[1]\n",
    "    height = imgArray[0][0].shape[0]\n",
    "    if rowsAvailable:\n",
    "        for x in range ( 0, rows):\n",
    "            for y in range(0, cols):\n",
    "                if imgArray[x][y].shape[:2] == imgArray[0][0].shape [:2]:\n",
    "                    imgArray[x][y] = cv.resize(imgArray[x][y], (0, 0), None, scale, scale)\n",
    "                else:\n",
    "                    imgArray[x][y] = cv.resize(imgArray[x][y], (imgArray[0][0].shape[1], imgArray[0][0].shape[0]), None, scale, scale)\n",
    "                if len(imgArray[x][y].shape) == 2: imgArray[x][y]= cv.cvtColor( imgArray[x][y], cv.COLOR_GRAY2BGR)\n",
    "        imageBlank = np.zeros((height, width, 3), np.uint8)\n",
    "        hor = [imageBlank]*rows\n",
    "        hor_con = [imageBlank]*rows\n",
    "        for x in range(0, rows):\n",
    "            hor[x] = np.hstack(imgArray[x])\n",
    "        ver = np.vstack(hor)\n",
    "    else:\n",
    "        for x in range(0, rows):\n",
    "            if imgArray[x].shape[:2] == imgArray[0].shape[:2]:\n",
    "                imgArray[x] = cv.resize(imgArray[x], (0, 0), None, scale, scale)\n",
    "            else:\n",
    "                imgArray[x] = cv.resize(imgArray[x], (imgArray[0].shape[1], imgArray[0].shape[0]), None,scale, scale)\n",
    "            if len(imgArray[x].shape) == 2: imgArray[x] = cv.cvtColor(imgArray[x], cv.COLOR_GRAY2BGR)\n",
    "        hor= np.hstack(imgArray)\n",
    "        ver = hor\n",
    "    return ver"
   ]
  },
  {
   "cell_type": "code",
   "execution_count": 105,
   "id": "70ac353b",
   "metadata": {},
   "outputs": [],
   "source": [
    "img = cv.imread(\"resources/shapes.jpg\")"
   ]
  },
  {
   "cell_type": "markdown",
   "id": "aaac6d56",
   "metadata": {},
   "source": [
    "#### Plotting Contours"
   ]
  },
  {
   "cell_type": "code",
   "execution_count": 182,
   "id": "87516c8b",
   "metadata": {},
   "outputs": [],
   "source": [
    "def getContours(img):\n",
    "    contours,hierarchy=cv.findContours(img,cv.RETR_EXTERNAL,cv.CHAIN_APPROX_NONE)\n",
    "    for cnt in contours:\n",
    "        area = cv.contourArea(cnt)\n",
    "        print(area)\n",
    "        if area>89:\n",
    "            cv.drawContours(imgContour,cnt,-1,(25,30,40),3)\n",
    "            perimeters=cv.arcLength(cnt,True)\n",
    "            #print(perimeters)\n",
    "            approx=cv.approxPolyDP(cnt,0.02*perimeters,True)\n",
    "            print(len(approx))\n",
    "            objCorners=len(approx)\n",
    "            x, y, w, h = cv.boundingRect(approx)\n",
    "            if objCorners == 3: objType=\"Tri\"\n",
    "            elif objCorners==4:\n",
    "                aspectRatio = w/float(h)\n",
    "                if aspectRatio > 0.95 and aspectRatio <1.05: objType = \"Square\"\n",
    "                else: objType = \"Rectangle\"\n",
    "            elif objCorners==5: objType=\"pentagon\"\n",
    "            elif objCorners==20: objType=\"Star\"\n",
    "            elif objCorners >5: objType=\"Circle\"\n",
    "            else: objType=\"None\"\n",
    "            cv.rectangle(imgContour,(x,y),(x+w,y+h),(0,225,0),4)\n",
    "            cv.putText(imgContour,objType,((x+(w//2)-20), (y+(h//2)+10)),cv.FONT_HERSHEY_SIMPLEX,0.7,\n",
    "                      (0,0,0),3)\n",
    "            "
   ]
  },
  {
   "cell_type": "code",
   "execution_count": 183,
   "id": "8da87516",
   "metadata": {},
   "outputs": [
    {
     "name": "stdout",
     "output_type": "stream",
     "text": [
      "4624.0\n",
      "4\n",
      "4507.5\n",
      "3\n",
      "5826.5\n",
      "4\n",
      "4236.5\n",
      "8\n",
      "89.5\n",
      "20\n",
      "4854.5\n",
      "5\n"
     ]
    }
   ],
   "source": [
    "imgContour=img.copy()\n",
    "imgGray= cvtColor(img,cv.COLOR_BGR2GRAY)\n",
    "imgBlur=cv.GaussianBlur(imgGray,(5,5),1) #higher the value of sigma the more blur you get inourcase it is 1\n",
    "imgCanny=cv.Canny(imgBlur,50,50)   # edges\n",
    "imgblank=np.zeros_like(img)\n",
    "getContours(imgCanny)\n",
    "imgstack= stackImages(0.7,([img,imgGray,imgBlur]\n",
    "                          ,[imgCanny,imgContour,imgblank])) \n",
    "cv.imshow(\"Stack\",imgstack)\n",
    "cv.waitKey(0)\n",
    "cv.destroyAllWindows()"
   ]
  }
 ],
 "metadata": {
  "kernelspec": {
   "display_name": "Python 3 (ipykernel)",
   "language": "python",
   "name": "python3"
  },
  "language_info": {
   "codemirror_mode": {
    "name": "ipython",
    "version": 3
   },
   "file_extension": ".py",
   "mimetype": "text/x-python",
   "name": "python",
   "nbconvert_exporter": "python",
   "pygments_lexer": "ipython3",
   "version": "3.10.2"
  }
 },
 "nbformat": 4,
 "nbformat_minor": 5
}
