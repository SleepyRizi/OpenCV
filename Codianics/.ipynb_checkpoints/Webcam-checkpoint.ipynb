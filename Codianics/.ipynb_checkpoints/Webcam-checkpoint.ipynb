{
 "cells": [
  {
   "cell_type": "code",
   "execution_count": 1,
   "id": "2fccd4fc",
   "metadata": {},
   "outputs": [],
   "source": [
    "import cv2 as cv\n",
    "import numpy as np\n",
    "from cv2 import cvtColor\n",
    "from cv2 import imwrite"
   ]
  },
  {
   "cell_type": "markdown",
   "id": "ef27d727",
   "metadata": {},
   "source": [
    "### Capturing image"
   ]
  },
  {
   "cell_type": "code",
   "execution_count": 3,
   "id": "36b35d9b",
   "metadata": {},
   "outputs": [],
   "source": [
    "cap= cv.VideoCapture(0)\n",
    "\n",
    "while(1):\n",
    "    ret, frame= cap.read()\n",
    "    if ret== True:\n",
    "        frame_flip=cv.flip(frame,1)\n",
    "        cv.imshow(\"Window\",frame_flip)\n",
    "        if cv.waitKey(1) & 0xff == ord('q'):\n",
    "            break\n",
    "    else:\n",
    "        break\n",
    "\n",
    "cap.release()\n",
    "cv.destroyAllWindows()"
   ]
  },
  {
   "cell_type": "markdown",
   "id": "fcacc2e2",
   "metadata": {},
   "source": [
    "## Capturing Gray image"
   ]
  },
  {
   "cell_type": "code",
   "execution_count": 2,
   "id": "d37fdca9",
   "metadata": {},
   "outputs": [],
   "source": [
    "cap=cv.VideoCapture(0)\n",
    "\n",
    "while(1):\n",
    "    ret, frame= cap.read()\n",
    "    frame_gray= cvtColor(frame,cv.COLOR_BGR2GRAY)\n",
    "    frame_flip=cv.flip(frame_gray,1)\n",
    "    (thresh,bitwise)= cv.threshold(frame_flip,127,225,cv.THRESH_BINARY)\n",
    "    if ret==True:\n",
    "        cv.imshow(\"Window\",frame_flip)\n",
    "        cv.imshow(\"Black Window\",bitwise)\n",
    "        if cv.waitKey(1) & 0xff == ord('q'):\n",
    "            break\n",
    "    else:\n",
    "        break\n",
    "        \n",
    "cap.release()\n",
    "cv.destroyAllWindows()"
   ]
  },
  {
   "cell_type": "markdown",
   "id": "b7e1c02c",
   "metadata": {},
   "source": [
    "### Capturing and joining in one window"
   ]
  },
  {
   "cell_type": "code",
   "execution_count": 2,
   "id": "516a312c",
   "metadata": {},
   "outputs": [],
   "source": [
    "cap=cv.VideoCapture(0)\n",
    "\n",
    "while(1):\n",
    "    ret,frame= cap.read()\n",
    "    frame_gray=cvtColor(frame,cv.COLOR_BGR2GRAY)\n",
    "    frame_flip=cv.flip(frame_gray,1)\n",
    "    (thresh,bitwise)= cv.threshold(frame_gray,127,222,cv.THRESH_BINARY)\n",
    "    if ret==True:\n",
    "        joined_wind= np.hstack((frame_gray,bitwise))\n",
    "        cv.imshow(\"Joined\",joined_wind)\n",
    "        if cv.waitKey(1) & 0xff == ord('q'):\n",
    "            break\n",
    "    else:\n",
    "        break\n",
    "\n",
    "cap.release()\n",
    "cv.destroyAllWindows()\n"
   ]
  },
  {
   "cell_type": "code",
   "execution_count": null,
   "id": "7692f084",
   "metadata": {},
   "outputs": [],
   "source": [
    "cv.destroyAllWindows()"
   ]
  },
  {
   "cell_type": "markdown",
   "id": "931c557e",
   "metadata": {},
   "source": [
    "### Saving frames"
   ]
  },
  {
   "cell_type": "code",
   "execution_count": 5,
   "id": "d09ae46b",
   "metadata": {},
   "outputs": [],
   "source": [
    "cap=cv.VideoCapture(0)\n",
    "frame_width=int(cap.get(3))\n",
    "frame_height=int(cap.get(4))\n",
    "out = cv.VideoWriter('resources/cam_capture.mp4',cv.VideoWriter_fourcc('M','J','P','G'),24,(frame_width,frame_height))\n",
    "\n",
    "while(1):\n",
    "    ret,frame= cap.read()\n",
    "    frame_flip=cv.flip(frame,1)\n",
    "    if ret==True:\n",
    "        cv.imshow(\"Window\",frame_flip)\n",
    "        out.write(frame_flip)\n",
    "        if cv.waitKey(1) & 0xff == ord('q'):\n",
    "            break\n",
    "    else:\n",
    "        break\n",
    "cap.release()\n",
    "out.release()\n",
    "cv.destroyAllWindows()"
   ]
  },
  {
   "cell_type": "code",
   "execution_count": null,
   "id": "d7412fec",
   "metadata": {},
   "outputs": [],
   "source": [
    "cv.destroyAllWindows()"
   ]
  },
  {
   "cell_type": "markdown",
   "id": "089f2645",
   "metadata": {},
   "source": [
    "## tuning video"
   ]
  },
  {
   "cell_type": "code",
   "execution_count": 7,
   "id": "aa77c1e6",
   "metadata": {},
   "outputs": [],
   "source": [
    "cap= cv.VideoCapture(0)\n",
    "cap.set(10,100) #brightness key 10\n",
    "cap.set(3,800)     #width key 3 #0.5 can be used as 50% \n",
    "cap.set(4,700)     #height key 4\n",
    "while(1): \n",
    "    ret, frame= cap.read()\n",
    "    frame_flip=cv.flip(frame,1)\n",
    "    if ret==True:\n",
    "        cv.imshow(\"Display Window\",frame_flip)\n",
    "        if cv.waitKey(1) & 0xFF == ord('q'):\n",
    "            break\n",
    "    else:\n",
    "        break\n",
    "cap.release()\n",
    "cv.destroyAllWindows()"
   ]
  },
  {
   "cell_type": "code",
   "execution_count": null,
   "id": "e15cf04a",
   "metadata": {},
   "outputs": [],
   "source": []
  }
 ],
 "metadata": {
  "kernelspec": {
   "display_name": "Python 3 (ipykernel)",
   "language": "python",
   "name": "python3"
  },
  "language_info": {
   "codemirror_mode": {
    "name": "ipython",
    "version": 3
   },
   "file_extension": ".py",
   "mimetype": "text/x-python",
   "name": "python",
   "nbconvert_exporter": "python",
   "pygments_lexer": "ipython3",
   "version": "3.10.2"
  }
 },
 "nbformat": 4,
 "nbformat_minor": 5
}
