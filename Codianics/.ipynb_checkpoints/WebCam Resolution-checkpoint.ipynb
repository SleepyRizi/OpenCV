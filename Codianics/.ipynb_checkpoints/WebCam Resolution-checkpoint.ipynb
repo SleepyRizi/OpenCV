{
 "cells": [
  {
   "cell_type": "code",
   "execution_count": 3,
   "id": "5aeee611",
   "metadata": {},
   "outputs": [],
   "source": [
    "import cv2 as cv\n",
    "import numpy as np"
   ]
  },
  {
   "cell_type": "code",
   "execution_count": null,
   "id": "f5103bf0",
   "metadata": {},
   "outputs": [],
   "source": [
    "cap= cv.VideoCapture(0)\n",
    "cap.set(3,1280)\n",
    "cap.set(4,720)\n",
    "#HD 1280x720"
   ]
  },
  {
   "cell_type": "code",
   "execution_count": 1,
   "id": "514d10ae",
   "metadata": {},
   "outputs": [],
   "source": [
    "def hd_resolution():\n",
    "    cap=cv.VideoCapture(0)\n",
    "    cap.set(3,1280)\n",
    "    cap.set(4,720)\n",
    "    cap.set(cv.CAP_PROP_FPS,60)"
   ]
  },
  {
   "cell_type": "code",
   "execution_count": 2,
   "id": "9c78eb5f",
   "metadata": {},
   "outputs": [],
   "source": [
    "def sd_resolution():\n",
    "    cap=cv.VideoCapture(0)\n",
    "    cap.set(3,640)\n",
    "    cap.set(4,480)\n",
    "    cap.set(cv.CAP_PROP_FPS,60)"
   ]
  },
  {
   "cell_type": "code",
   "execution_count": 14,
   "id": "b713d527",
   "metadata": {},
   "outputs": [],
   "source": [
    "def fhd_resolution(cap):\n",
    "    #cap=cv.VideoCapture(0)\n",
    "    cap.set(3,1920)\n",
    "    cap.set(4,1080)\n",
    "    cap.set(cv.CAP_PROP_FPS,60)"
   ]
  },
  {
   "cell_type": "code",
   "execution_count": 15,
   "id": "cf84fe14",
   "metadata": {},
   "outputs": [],
   "source": [
    "cap=cv.VideoCapture(0)\n",
    "fhd_resolution(cap)\n",
    "while(True):\n",
    "    ret,frame=cap.read()\n",
    "    if ret== True:\n",
    "        frame_flip=cv.flip(frame,1)\n",
    "        cv.imshow(\"Window name\",frame_flip)\n",
    "        if cv.waitKey(1) & 0xff == ord('q'):\n",
    "            break\n",
    "    else:\n",
    "        print(\"Camera Not opened\")\n",
    "        break\n",
    "        \n",
    "cap.release()\n",
    "cv.destroyAllWindows()"
   ]
  },
  {
   "cell_type": "code",
   "execution_count": null,
   "id": "6f46b802",
   "metadata": {},
   "outputs": [],
   "source": []
  }
 ],
 "metadata": {
  "kernelspec": {
   "display_name": "Python 3 (ipykernel)",
   "language": "python",
   "name": "python3"
  },
  "language_info": {
   "codemirror_mode": {
    "name": "ipython",
    "version": 3
   },
   "file_extension": ".py",
   "mimetype": "text/x-python",
   "name": "python",
   "nbconvert_exporter": "python",
   "pygments_lexer": "ipython3",
   "version": "3.10.2"
  }
 },
 "nbformat": 4,
 "nbformat_minor": 5
}
