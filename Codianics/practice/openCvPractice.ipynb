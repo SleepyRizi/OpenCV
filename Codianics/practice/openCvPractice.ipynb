{
 "cells": [
  {
   "cell_type": "code",
   "execution_count": 1,
   "id": "0d82bc56",
   "metadata": {},
   "outputs": [],
   "source": [
    "import cv2 as cv\n",
    "import numpy as np\n"
   ]
  },
  {
   "cell_type": "code",
   "execution_count": 26,
   "id": "2eecd126",
   "metadata": {},
   "outputs": [
    {
     "data": {
      "text/plain": [
       "(900, 900, 3)"
      ]
     },
     "execution_count": 26,
     "metadata": {},
     "output_type": "execute_result"
    }
   ],
   "source": [
    "img=cv.imread(\"FMiseGxWYAAu8y8.jpg\")\n",
    "img.shape\n",
    "img=cv.resize(img,(900,900))\n",
    "img.shape"
   ]
  },
  {
   "cell_type": "code",
   "execution_count": 31,
   "id": "1a4c012c",
   "metadata": {},
   "outputs": [],
   "source": [
    "img=cv.imread(\"FMiseGxWYAAu8y8.jpg\")\n",
    "\n",
    "width,height=300,400\n",
    "pt1=np.float32([[190,725],[190,776],[674,225],[674,780]])\n",
    "pt2=np.float32([[0,0],[width,0],[height,0],[width,height]])\n",
    "\n",
    "matrix=cv.getPerspectiveTransform(pt1,pt2)\n",
    "outimg=cv.warpPerspective(img,matrix,(width,height))\n",
    "cv.imshow(\"Window\",outimg)\n",
    "cv.waitKey(0)\n",
    "cv.destroyAllWindows()"
   ]
  },
  {
   "cell_type": "code",
   "execution_count": null,
   "id": "2779c0e7",
   "metadata": {},
   "outputs": [],
   "source": []
  }
 ],
 "metadata": {
  "kernelspec": {
   "display_name": "Python 3 (ipykernel)",
   "language": "python",
   "name": "python3"
  },
  "language_info": {
   "codemirror_mode": {
    "name": "ipython",
    "version": 3
   },
   "file_extension": ".py",
   "mimetype": "text/x-python",
   "name": "python",
   "nbconvert_exporter": "python",
   "pygments_lexer": "ipython3",
   "version": "3.10.2"
  }
 },
 "nbformat": 4,
 "nbformat_minor": 5
}
