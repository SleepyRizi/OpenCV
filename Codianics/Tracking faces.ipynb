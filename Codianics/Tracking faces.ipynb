{
 "cells": [
  {
   "cell_type": "code",
   "execution_count": 3,
   "id": "cb1deb6b",
   "metadata": {},
   "outputs": [],
   "source": [
    "import cv2 as cv\n",
    "import numpy as np\n",
    "from cv2 import cvtColor"
   ]
  },
  {
   "cell_type": "code",
   "execution_count": 47,
   "id": "474aebd9",
   "metadata": {},
   "outputs": [],
   "source": [
    "img=cv.imread(\"resources/faces.jpg\")\n",
    "#img=cv.resize(img,(600,800))\n",
    "imgGray= cvtColor(img,cv.COLOR_BGR2GRAY)"
   ]
  },
  {
   "cell_type": "code",
   "execution_count": 48,
   "id": "d36b6dc8",
   "metadata": {},
   "outputs": [],
   "source": [
    "faceCascade=cv.CascadeClassifier(\"resources/haarcascades/haarcascade_frontalface_default.xml\")\n",
    "faces=faceCascade.detectMultiScale(imgGray,1.2,2)\n",
    "\n",
    "for (x,y,w,h) in faces:\n",
    "    cv.rectangle(img,(x,y),(x+w,y+h),(25,15,185),2)\n",
    "cv.imshow(\"resuls\",img)\n",
    "cv.waitKey(0)\n",
    "cv.destroyAllWindows()"
   ]
  },
  {
   "cell_type": "code",
   "execution_count": null,
   "id": "da0db1ae",
   "metadata": {},
   "outputs": [],
   "source": []
  }
 ],
 "metadata": {
  "kernelspec": {
   "display_name": "Python 3 (ipykernel)",
   "language": "python",
   "name": "python3"
  },
  "language_info": {
   "codemirror_mode": {
    "name": "ipython",
    "version": 3
   },
   "file_extension": ".py",
   "mimetype": "text/x-python",
   "name": "python",
   "nbconvert_exporter": "python",
   "pygments_lexer": "ipython3",
   "version": "3.10.2"
  }
 },
 "nbformat": 4,
 "nbformat_minor": 5
}
