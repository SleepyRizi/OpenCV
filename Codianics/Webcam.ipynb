{
 "cells": [
  {
   "cell_type": "code",
   "execution_count": 1,
   "id": "99d67f75",
   "metadata": {},
   "outputs": [],
   "source": [
    "import cv2 as cv\n",
    "import numpy as np\n",
    "from cv2 import cvtColor\n",
    "from cv2 import imwrite"
   ]
  },
  {
   "cell_type": "markdown",
   "id": "ff631458",
   "metadata": {},
   "source": [
    "### Capturing image"
   ]
  },
  {
   "cell_type": "code",
   "execution_count": 3,
   "id": "9aa452a1",
   "metadata": {},
   "outputs": [],
   "source": [
    "cap= cv.VideoCapture(0)\n",
    "\n",
    "while(1):\n",
    "    ret, frame= cap.read()\n",
    "    if ret== True:\n",
    "        frame_flip=cv.flip(frame,1)\n",
    "        cv.imshow(\"Window\",frame_flip)\n",
    "        if cv.waitKey(1) & 0xff == ord('q'):\n",
    "            break\n",
    "    else:\n",
    "        break\n",
    "\n",
    "cap.release()\n",
    "cv.destroyAllWindows()"
   ]
  },
  {
   "cell_type": "markdown",
   "id": "1f18f416",
   "metadata": {},
   "source": [
    "## Capturing Gray image"
   ]
  },
  {
   "cell_type": "code",
   "execution_count": 2,
   "id": "dfa4f7c3",
   "metadata": {},
   "outputs": [],
   "source": [
    "cap=cv.VideoCapture(0)\n",
    "\n",
    "while(1):\n",
    "    ret, frame= cap.read()\n",
    "    frame_gray= cvtColor(frame,cv.COLOR_BGR2GRAY)\n",
    "    frame_flip=cv.flip(frame_gray,1)\n",
    "    (thresh,bitwise)= cv.threshold(frame_flip,127,225,cv.THRESH_BINARY)\n",
    "    if ret==True:\n",
    "        cv.imshow(\"Window\",frame_flip)\n",
    "        cv.imshow(\"Black Window\",bitwise)\n",
    "        if cv.waitKey(1) & 0xff == ord('q'):\n",
    "            break\n",
    "    else:\n",
    "        break\n",
    "        \n",
    "cap.release()\n",
    "cv.destroyAllWindows()"
   ]
  },
  {
   "cell_type": "markdown",
   "id": "b85441c9",
   "metadata": {},
   "source": [
    "### Capturing and joining in one window"
   ]
  },
  {
   "cell_type": "code",
   "execution_count": 2,
   "id": "60b77687",
   "metadata": {},
   "outputs": [],
   "source": [
    "cap=cv.VideoCapture(0)\n",
    "\n",
    "while(1):\n",
    "    ret,frame= cap.read()\n",
    "    frame_gray=cvtColor(frame,cv.COLOR_BGR2GRAY)\n",
    "    frame_flip=cv.flip(frame_gray,1)\n",
    "    (thresh,bitwise)= cv.threshold(frame_gray,127,222,cv.THRESH_BINARY)\n",
    "    if ret==True:\n",
    "        joined_wind= np.hstack((frame_gray,bitwise))\n",
    "        cv.imshow(\"Joined\",joined_wind)\n",
    "        if cv.waitKey(1) & 0xff == ord('q'):\n",
    "            break\n",
    "    else:\n",
    "        break\n",
    "\n",
    "cap.release()\n",
    "cv.destroyAllWindows()\n"
   ]
  },
  {
   "cell_type": "code",
   "execution_count": null,
   "id": "f6650dc6",
   "metadata": {},
   "outputs": [],
   "source": [
    "cv.destroyAllWindows()"
   ]
  },
  {
   "cell_type": "markdown",
   "id": "5a71fd72",
   "metadata": {},
   "source": [
    "### Saving frames"
   ]
  },
  {
   "cell_type": "code",
   "execution_count": 5,
   "id": "91b16f51",
   "metadata": {},
   "outputs": [],
   "source": [
    "cap=cv.VideoCapture(0)\n",
    "frame_width=int(cap.get(3))\n",
    "frame_height=int(cap.get(4))\n",
    "out = cv.VideoWriter('resources/cam_capture.mp4',cv.VideoWriter_fourcc('M','J','P','G'),24,(frame_width,frame_height))\n",
    "\n",
    "while(1):\n",
    "    ret,frame= cap.read()\n",
    "    frame_flip=cv.flip(frame,1)\n",
    "    if ret==True:\n",
    "        cv.imshow(\"Window\",frame_flip)\n",
    "        out.write(frame_flip)\n",
    "        if cv.waitKey(1) & 0xff == ord('q'):\n",
    "            break\n",
    "    else:\n",
    "        break\n",
    "cap.release()\n",
    "out.release()\n",
    "cv.destroyAllWindows()"
   ]
  },
  {
   "cell_type": "code",
   "execution_count": null,
   "id": "8d3f05c7",
   "metadata": {},
   "outputs": [],
   "source": [
    "cv.destroyAllWindows()"
   ]
  },
  {
   "cell_type": "markdown",
   "id": "a47822cb",
   "metadata": {},
   "source": [
    "## tuning video"
   ]
  },
  {
   "cell_type": "code",
   "execution_count": null,
   "id": "a1013a5f",
   "metadata": {},
   "outputs": [],
   "source": [
    "cap= cv.VideoCapture(0)\n",
    "cap.set(10,100) #brightness key 10\n",
    "cap.set(3,800)     #width key 3 #0.5 can be used as 50% \n",
    "cap.set(4,700)     #height key 4\n",
    "while(1): \n",
    "    ret, frame= cap.read()\n",
    "    frame_flip=cv.flip(frame,1)\n",
    "    blured_frame=cv.GaussianBlur(frame_flip,(35,35), 0)\n",
    "    if ret==True:\n",
    "        cv.imshow(\"Display Window\",blured_frame)\n",
    "        if cv.waitKey(1) & 0xFF == ord('q'):\n",
    "            break\n",
    "    else:\n",
    "        break\n",
    "cap.release()\n",
    "cv.destroyAllWindows()"
   ]
  },
  {
   "cell_type": "code",
   "execution_count": 5,
   "id": "a87675af",
   "metadata": {},
   "outputs": [],
   "source": [
    "cv.destroyAllWindows()"
   ]
  },
  {
   "cell_type": "code",
   "execution_count": null,
   "id": "fa2bba03",
   "metadata": {},
   "outputs": [],
   "source": []
  }
 ],
 "metadata": {
  "kernelspec": {
   "display_name": "Python 3 (ipykernel)",
   "language": "python",
   "name": "python3"
  },
  "language_info": {
   "codemirror_mode": {
    "name": "ipython",
    "version": 3
   },
   "file_extension": ".py",
   "mimetype": "text/x-python",
   "name": "python",
   "nbconvert_exporter": "python",
   "pygments_lexer": "ipython3",
   "version": "3.10.2"
  }
 },
 "nbformat": 4,
 "nbformat_minor": 5
}
