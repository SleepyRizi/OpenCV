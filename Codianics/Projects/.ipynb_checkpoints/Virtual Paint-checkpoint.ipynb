{
 "cells": [
  {
   "cell_type": "code",
   "execution_count": 4,
   "id": "0cef3361",
   "metadata": {},
   "outputs": [],
   "source": [
    "import cv2 as cv\n",
    "from cv2 import cvtColor\n",
    "import numpy as np"
   ]
  },
  {
   "cell_type": "code",
   "execution_count": 3,
   "id": "c8766de5",
   "metadata": {},
   "outputs": [],
   "source": [
    "myColor = [[5,107,0,19,225,225],\n",
    "           [133,56,0,159,156,225],\n",
    "           [57,76,0,100,225,225]] "
   ]
  },
  {
   "cell_type": "code",
   "execution_count": null,
   "id": "11c8ab05",
   "metadata": {},
   "outputs": [],
   "source": [
    "def findColor(img):\n",
    "    imgHSV = cv.cvtColor(img,cv.COLOR_BGR2HSV)\n",
    "    lower=np."
   ]
  },
  {
   "cell_type": "code",
   "execution_count": 2,
   "id": "de68f1a5",
   "metadata": {},
   "outputs": [],
   "source": [
    "cap= cv.VideoCapture(0)\n",
    "frame_width=1024\n",
    "frame_height=720\n",
    "cap.set(3,frame_width)\n",
    "cap.set(4,frame_height)\n",
    "cap.set(10,100)\n",
    "while(True):\n",
    "    ret, frame =cap.read()\n",
    "    if ret==True:\n",
    "        frame=cv.flip(frame,1)\n",
    "        cv.imshow(\"Window\",frame)\n",
    "        if cv.waitKey(1) & 0xff == ord('q'):\n",
    "            break\n",
    "    else:\n",
    "        break\n",
    "\n",
    "cap.release()\n",
    "cv.destroyAllWindows()"
   ]
  },
  {
   "cell_type": "code",
   "execution_count": null,
   "id": "b4647720",
   "metadata": {},
   "outputs": [],
   "source": [
    "    "
   ]
  }
 ],
 "metadata": {
  "kernelspec": {
   "display_name": "Python 3 (ipykernel)",
   "language": "python",
   "name": "python3"
  },
  "language_info": {
   "codemirror_mode": {
    "name": "ipython",
    "version": 3
   },
   "file_extension": ".py",
   "mimetype": "text/x-python",
   "name": "python",
   "nbconvert_exporter": "python",
   "pygments_lexer": "ipython3",
   "version": "3.10.2"
  }
 },
 "nbformat": 4,
 "nbformat_minor": 5
}
