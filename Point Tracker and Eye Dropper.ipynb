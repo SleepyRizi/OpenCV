{
 "cells": [
  {
   "cell_type": "code",
   "execution_count": 1,
   "id": "97628da5",
   "metadata": {},
   "outputs": [],
   "source": [
    "import cv2 as cv\n",
    "import numpy as np"
   ]
  },
  {
   "cell_type": "markdown",
   "id": "5ab9c59d",
   "metadata": {},
   "source": [
    "### Show Coordinates of point clicked"
   ]
  },
  {
   "cell_type": "code",
   "execution_count": 2,
   "id": "84661543",
   "metadata": {},
   "outputs": [],
   "source": [
    "def find_coordinates(event,x,y,flag,prams):\n",
    "    if event==cv.EVENT_FLAG_LBUTTON:\n",
    "        #left mouse click\n",
    "        print(x,y)\n",
    "        font = cv.FONT_HERSHEY_PLAIN\n",
    "        cv.putText(img,(str(x)+','+str(y)),(x,y),font,1,(5,5,5),thickness=2)\n",
    "        cv.imshow(\"Img\",img)\n",
    "    if event==cv.EVENT_FLAG_RBUTTON:\n",
    "        #right mouse click\n",
    "        print(x,y)\n",
    "        font = cv.FONT_HERSHEY_PLAIN\n",
    "        b= img[x,y,0]\n",
    "        g=img[x,y,0]\n",
    "        r=img[x,y,0]\n",
    "        print(b)\n",
    "        cv.putText(img,(str(b)+','+str(g)+','+str(r)),(x,y),font,1,(1,1,1),thickness=1)\n",
    "        cv.imshow(\"Img\",img)\n",
    "        "
   ]
  },
  {
   "cell_type": "code",
   "execution_count": null,
   "id": "d3cb04f6",
   "metadata": {},
   "outputs": [],
   "source": [
    "img=cv.imread('resources/image.jpg',1)\n",
    "img=cv.resize(img,(600,600))\n",
    "cv.imshow(\"Img\",img)\n",
    "cv.setMouseCallback('Img',find_coordinates)\n",
    "cv.waitKey(0)\n",
    "cv.destroyAllWindows()"
   ]
  },
  {
   "cell_type": "code",
   "execution_count": 32,
   "id": "6c1c28fc",
   "metadata": {},
   "outputs": [],
   "source": [
    "coordinates=[]\n",
    "def crop_coordinates(event,x,y,flag,prams):\n",
    "    if event==cv.EVENT_FLAG_LBUTTON:\n",
    "        coordinates.append((x,y))\n",
    "        cv.circle(img,(x,y),1,(226,226,226),13,cv.FILLED)\n",
    "        cv.imshow(\"Img\",img)\n",
    "        print(str(x) +','+str(y))\n",
    "    if len(coordinates) ==4:\n",
    "        crop_img(img)"
   ]
  },
  {
   "cell_type": "code",
   "execution_count": 80,
   "id": "0bb16dd0",
   "metadata": {},
   "outputs": [],
   "source": [
    "def crop_img(img):\n",
    "    point1=np.float32(np.array(coordinates))\n",
    "    point2= np.float32([[0,0],[img.shape[1],0],[0,img.shape[1]],[img.shape[1],img.shape[0]]])\n",
    "    matrix= cv.getPerspectiveTransform(point1,point2)\n",
    "    outimg=cv.warpPerspective(img,matrix,(800,900))\n",
    "    cv.imshow(\"Croped\",outimg)\n",
    "    cv.waitKey(0)\n",
    "    cv.destroyAllWindows()\n",
    "    "
   ]
  },
  {
   "cell_type": "code",
   "execution_count": 82,
   "id": "a148d199",
   "metadata": {},
   "outputs": [
    {
     "name": "stdout",
     "output_type": "stream",
     "text": [
      "56,109\n",
      "450,104\n",
      "420,409\n",
      "62,430\n"
     ]
    }
   ],
   "source": [
    "img= cv.imread('resources/image.jpg',1)\n",
    "img=cv.resize(img,(600,600))\n",
    "cv.imshow(\"Img\",img)\n",
    "cv.setMouseCallback('Img',crop_coordinates)\n",
    "if len(coordinates) == 4:\n",
    "    crop_img(img)\n",
    "cv.waitKey(0)\n",
    "coordinates=[]\n",
    "cv.destroyAllWindows()"
   ]
  },
  {
   "cell_type": "code",
   "execution_count": 62,
   "id": "267d5d0e",
   "metadata": {},
   "outputs": [],
   "source": [
    "coordinates=[]"
   ]
  },
  {
   "cell_type": "code",
   "execution_count": 37,
   "id": "33a6ba62",
   "metadata": {},
   "outputs": [
    {
     "data": {
      "text/plain": [
       "False"
      ]
     },
     "execution_count": 37,
     "metadata": {},
     "output_type": "execute_result"
    }
   ],
   "source": [
    "len(coordinates) ==4"
   ]
  },
  {
   "cell_type": "code",
   "execution_count": 17,
   "id": "dd60b247",
   "metadata": {},
   "outputs": [
    {
     "data": {
      "text/plain": [
       "array([[ 88., 185.],\n",
       "       [432., 170.],\n",
       "       [ 77., 358.],\n",
       "       [418., 334.]], dtype=float32)"
      ]
     },
     "execution_count": 17,
     "metadata": {},
     "output_type": "execute_result"
    }
   ],
   "source": [
    "np.float32(np.array(coordinates))"
   ]
  },
  {
   "cell_type": "code",
   "execution_count": null,
   "id": "77a33d39",
   "metadata": {},
   "outputs": [],
   "source": []
  }
 ],
 "metadata": {
  "kernelspec": {
   "display_name": "Python 3 (ipykernel)",
   "language": "python",
   "name": "python3"
  },
  "language_info": {
   "codemirror_mode": {
    "name": "ipython",
    "version": 3
   },
   "file_extension": ".py",
   "mimetype": "text/x-python",
   "name": "python",
   "nbconvert_exporter": "python",
   "pygments_lexer": "ipython3",
   "version": "3.10.2"
  }
 },
 "nbformat": 4,
 "nbformat_minor": 5
}
