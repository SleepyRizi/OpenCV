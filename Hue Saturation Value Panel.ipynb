{
 "cells": [
  {
   "cell_type": "code",
   "execution_count": 1,
   "id": "736a2023",
   "metadata": {},
   "outputs": [],
   "source": [
    "import numpy as np\n",
    "import cv2 as cv\n",
    "from cv2 import cvtColor"
   ]
  },
  {
   "cell_type": "code",
   "execution_count": null,
   "id": "20f450e1",
   "metadata": {},
   "outputs": [],
   "source": [
    "path = \"resources/image.jpg\""
   ]
  },
  {
   "cell_type": "code",
   "execution_count": null,
   "id": "773f8b33",
   "metadata": {},
   "outputs": [],
   "source": [
    "img=cv.imread(path)\n",
    "img=cv.resize(img,(600,600))\n",
    "hsv_img=cvtColor(img,cv.COLOR_BGR2HSV)\n",
    "cv.imshow(\"Window\",hsv_img)\n",
    "cv.waitKey(0)\n",
    "cv.destroyAllWindows()"
   ]
  },
  {
   "cell_type": "code",
   "execution_count": null,
   "id": "8609f51c",
   "metadata": {},
   "outputs": [],
   "source": [
    "#Sliders"
   ]
  },
  {
   "cell_type": "code",
   "execution_count": 6,
   "id": "dbf4206a",
   "metadata": {},
   "outputs": [],
   "source": [
    "def slider(a):\n",
    "    pass"
   ]
  },
  {
   "cell_type": "markdown",
   "id": "841d9b66",
   "metadata": {},
   "source": [
    "## On image"
   ]
  },
  {
   "cell_type": "code",
   "execution_count": null,
   "id": "f261797a",
   "metadata": {
    "scrolled": true
   },
   "outputs": [],
   "source": [
    "cv.namedWindow(\"Bars\") #create Window for sliders\n",
    "cv.resizeWindow(\"Bars\",500,250) #resize window\n",
    "cv.createTrackbar(\"Hue min\",\"Bars\",0,179,slider) #create trackers\n",
    "cv.createTrackbar(\"Hue max\",\"Bars\",179,179,slider)\n",
    "cv.createTrackbar(\"Sat min\",\"Bars\",0,255,slider)\n",
    "cv.createTrackbar(\"Sat max\",\"Bars\",255,255,slider)\n",
    "cv.createTrackbar(\"Val min\",\"Bars\",0,255,slider)\n",
    "cv.createTrackbar(\"Val max\",\"Bars\",255,255,slider)\n",
    "hue_min=cv.getTrackbarPos(\"Hue min\",\"Bars\") #get trackbar position\n",
    "print(hue_min)\n",
    "cv.waitKey(0)\n",
    "cv.destroyAllWindows()"
   ]
  },
  {
   "cell_type": "code",
   "execution_count": null,
   "id": "285f9256",
   "metadata": {},
   "outputs": [],
   "source": [
    "cv.namedWindow(\"Bars\") #create Window for sliders\n",
    "cv.resizeWindow(\"Bars\",500,250) #resize window\n",
    "cv.createTrackbar(\"Hue min\",\"Bars\",0,255,slider) #create trackers\n",
    "cv.createTrackbar(\"Hue max\",\"Bars\",255,255,slider)\n",
    "cv.createTrackbar(\"Sat min\",\"Bars\",255,255,slider)\n",
    "cv.createTrackbar(\"Sat max\",\"Bars\",0,255,slider) # <-----\n",
    "cv.createTrackbar(\"Val min\",\"Bars\",0,255,slider)\n",
    "cv.createTrackbar(\"Val max\",\"Bars\",255,255,slider)\n",
    "while(True):\n",
    "    #read image\n",
    "    img=cv.imread(path,1)\n",
    "    img=cv.resize(img,(600,600))\n",
    "    hsv_img = cv.cvtColor(img,cv.COLOR_BGR2HSV)\n",
    "    #get trackbar\n",
    "    hue_min= cv.getTrackbarPos(\"Hue min\",\"Bars\")\n",
    "    hue_max= cv.getTrackbarPos(\"Hue max\",\"Bars\")\n",
    "    sat_min= cv.getTrackbarPos(\"Sat max\",\"Bars\")\n",
    "    sat_max= cv.getTrackbarPos(\"Sat min\",\"Bars\")\n",
    "    val_min= cv.getTrackbarPos(\"Val min\",\"Bars\")\n",
    "    val_max= cv.getTrackbarPos(\"Val max\",\"Bars\")\n",
    "    #print(hue_min,hue_max,sat_min,sat_max,val_min,val_max)\n",
    "    #change inside image\n",
    "    lower_region=np.array([hue_min,sat_min,val_min])\n",
    "    upper_region=np.array([hue_max,sat_max,val_max])\n",
    "    #create mask image\n",
    "    mask_img= cv.inRange(hsv_img, lower_region, upper_region)\n",
    "    out_img= cv.bitwise_and(img,img,mask=mask_img) #doing AND operation \n",
    "    #cv.imshow(\"Original\",img)\n",
    "    #cv.imshow(\"hsv img\",hsv_img)\n",
    "    cv.imshow(\"Masked img\",mask_img)\n",
    "    cv.imshow(\"Final output\",out_img)\n",
    "    if cv.waitKey(1) & 0xff == ord('q'):\n",
    "        break\n",
    "cv.destroyAllWindows()"
   ]
  },
  {
   "cell_type": "markdown",
   "id": "db0363fc",
   "metadata": {},
   "source": [
    "## On video"
   ]
  },
  {
   "cell_type": "code",
   "execution_count": 11,
   "id": "589f6bc8",
   "metadata": {},
   "outputs": [],
   "source": [
    "# capture webcam\n",
    "cap=cv.VideoCapture(0)\n",
    "cv.namedWindow(\"Bars\") #create Window for sliders\n",
    "cv.resizeWindow(\"Bars\",500,250) #resize window\n",
    "cv.createTrackbar(\"Hue min\",\"Bars\",0,255,slider) #create trackers\n",
    "cv.createTrackbar(\"Hue max\",\"Bars\",255,255,slider)\n",
    "cv.createTrackbar(\"Sat min\",\"Bars\",255,255,slider)\n",
    "cv.createTrackbar(\"Sat max\",\"Bars\",0,255,slider) # <-----\n",
    "cv.createTrackbar(\"Val min\",\"Bars\",0,255,slider)\n",
    "cv.createTrackbar(\"Val max\",\"Bars\",255,255,slider)\n",
    "while(True):\n",
    "    ret,frame= cap.read()\n",
    "    if ret== True:\n",
    "        frame_flip=cv.flip(frame,1)\n",
    "        hsv_frame = cvtColor(frame,cv.COLOR_BGR2HSV)\n",
    "        hsv_frame = cv.flip(hsv_frame,1)\n",
    "        hue_min= cv.getTrackbarPos(\"Hue min\",\"Bars\")\n",
    "        hue_max= cv.getTrackbarPos(\"Hue max\",\"Bars\")\n",
    "        sat_min= cv.getTrackbarPos(\"Sat max\",\"Bars\")\n",
    "        sat_max= cv.getTrackbarPos(\"Sat min\",\"Bars\")\n",
    "        val_min= cv.getTrackbarPos(\"Val min\",\"Bars\")\n",
    "        val_max= cv.getTrackbarPos(\"Val max\",\"Bars\")\n",
    "        lower_region=np.array([hue_min,sat_min,val_min])\n",
    "        upper_region=np.array([hue_max,sat_max,val_max])\n",
    "        masked_framed= cv.inRange(hsv_frame,lower_region,upper_region)\n",
    "        out_frame= cv.bitwise_and(frame_flip,frame_flip,mask=masked_framed)\n",
    "        cv.imshow(\"Window\",hsv_frame)\n",
    "        cv.imshow(\"Masked\",masked_framed)\n",
    "        cv.imshow(\"Result\",out_frame)\n",
    "        \n",
    "        if cv.waitKey(1) & 0xff == ord('q'):\n",
    "            break\n",
    "    else:\n",
    "        break\n",
    "cap.release()\n",
    "cv.destroyAllWindows()\n"
   ]
  },
  {
   "cell_type": "code",
   "execution_count": null,
   "id": "166da10a",
   "metadata": {},
   "outputs": [],
   "source": []
  }
 ],
 "metadata": {
  "kernelspec": {
   "display_name": "Python 3 (ipykernel)",
   "language": "python",
   "name": "python3"
  },
  "language_info": {
   "codemirror_mode": {
    "name": "ipython",
    "version": 3
   },
   "file_extension": ".py",
   "mimetype": "text/x-python",
   "name": "python",
   "nbconvert_exporter": "python",
   "pygments_lexer": "ipython3",
   "version": "3.10.2"
  }
 },
 "nbformat": 4,
 "nbformat_minor": 5
}
