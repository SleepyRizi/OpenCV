{
 "cells": [
  {
   "cell_type": "code",
   "execution_count": 1,
   "id": "6d579186",
   "metadata": {},
   "outputs": [],
   "source": [
    "import cv2 as cv\n",
    "import numpy as np\n",
    "from cv2 import cvtColor\n",
    "from cv2 import imwrite"
   ]
  },
  {
   "cell_type": "code",
   "execution_count": 2,
   "id": "a3ff52e5",
   "metadata": {},
   "outputs": [
    {
     "data": {
      "text/plain": [
       "'D:\\\\Courses\\\\OpenCV'"
      ]
     },
     "execution_count": 2,
     "metadata": {},
     "output_type": "execute_result"
    }
   ],
   "source": [
    "pwd"
   ]
  },
  {
   "cell_type": "code",
   "execution_count": 4,
   "id": "095b212f",
   "metadata": {},
   "outputs": [],
   "source": [
    "!mkdir 'resource'"
   ]
  },
  {
   "cell_type": "code",
   "execution_count": 5,
   "id": "683c94dc",
   "metadata": {},
   "outputs": [],
   "source": [
    "rmdir 'resource'"
   ]
  },
  {
   "cell_type": "code",
   "execution_count": 6,
   "id": "0b0ea848",
   "metadata": {},
   "outputs": [],
   "source": [
    "mkdir resource"
   ]
  },
  {
   "cell_type": "code",
   "execution_count": 8,
   "id": "cab70263",
   "metadata": {},
   "outputs": [],
   "source": [
    "rmdir resource"
   ]
  },
  {
   "cell_type": "code",
   "execution_count": 9,
   "id": "47e83009",
   "metadata": {},
   "outputs": [],
   "source": [
    "mkdir resources"
   ]
  },
  {
   "cell_type": "code",
   "execution_count": 13,
   "id": "d9242eb4",
   "metadata": {},
   "outputs": [
    {
     "data": {
      "text/plain": [
       "-1"
      ]
     },
     "execution_count": 13,
     "metadata": {},
     "output_type": "execute_result"
    }
   ],
   "source": [
    "img= cv.imread('resources/image.jpg')\n",
    "img=cv.resize(img,(555,600))\n",
    "cv.imshow('Window',img)\n",
    "cv.waitKey(0)"
   ]
  },
  {
   "cell_type": "code",
   "execution_count": 22,
   "id": "a29d37da",
   "metadata": {},
   "outputs": [
    {
     "data": {
      "text/plain": [
       "-1"
      ]
     },
     "execution_count": 22,
     "metadata": {},
     "output_type": "execute_result"
    }
   ],
   "source": [
    "img = cv.imread(\"resources/image.jpg\")\n",
    "img = cv.resize(img,(555,600))\n",
    "img_gray = cvtColor(img,cv.COLOR_BGR2GRAY)\n",
    "cv.imshow(\"Window\",img_gray)\n",
    "cv.waitKey(0)"
   ]
  },
  {
   "cell_type": "code",
   "execution_count": 16,
   "id": "5d17a5f9",
   "metadata": {},
   "outputs": [
    {
     "data": {
      "text/plain": [
       "-1"
      ]
     },
     "execution_count": 16,
     "metadata": {},
     "output_type": "execute_result"
    }
   ],
   "source": [
    "img= cv.imread('resources/image.jpg')\n",
    "img= cv.resize(img,(555,600))\n",
    "img_gray= cvtColor(img,cv.COLOR_BGR2GRAY)\n",
    "(thresh,bitblack)=cv.threshold(img_gray,127,255,cv.THRESH_BINARY)\n",
    "cv.imshow(\"BlackWindow\",bitblack)\n",
    "cv.imwrite(\"resources/saved.png\",bitblack)\n",
    "cv.waitKey(1)\n"
   ]
  },
  {
   "cell_type": "code",
   "execution_count": 12,
   "id": "d1c932d9",
   "metadata": {},
   "outputs": [],
   "source": [
    "cv.destroyAllWindows()"
   ]
  },
  {
   "cell_type": "markdown",
   "id": "e768b065",
   "metadata": {},
   "source": [
    "# Reading a video files"
   ]
  },
  {
   "cell_type": "code",
   "execution_count": 8,
   "id": "f80b02db",
   "metadata": {},
   "outputs": [],
   "source": [
    "cap= cv.VideoCapture('resources/video.mp4')\n",
    "if(cap.isOpened()==False):\n",
    "    print(\"Error in reading file\")\n",
    "\n",
    "while(cap.isOpened()):\n",
    "    ret, frame= cap.read()\n",
    "    if ret == True:\n",
    "        cv.imshow(\"Display\", frame)\n",
    "        if cv.waitKey(1) & 0xff == ord('q'):\n",
    "            break\n",
    "    else:\n",
    "        break\n",
    "            \n",
    "cap.release()\n",
    "cv.destroyAllWindows()\n",
    "        "
   ]
  },
  {
   "cell_type": "markdown",
   "id": "d889d035",
   "metadata": {},
   "source": [
    "## Altering video frames"
   ]
  },
  {
   "cell_type": "code",
   "execution_count": 11,
   "id": "dd09b31b",
   "metadata": {},
   "outputs": [],
   "source": [
    "cap=cv.VideoCapture(\"resources/video.mp4\")\n",
    "\n",
    "while(1):\n",
    "    ret, frame= cap.read()\n",
    "    if ret==True:\n",
    "        frame = cvtColor(frame,cv.COLOR_BGR2GRAY)\n",
    "        cv.imshow(\"Window\",frame)\n",
    "        if cv.waitKey(1) & 0xff == ord('q'):\n",
    "            break\n",
    "    else:\n",
    "        break\n",
    "\n",
    "cap.release()\n",
    "cv.destroyAllWindows()"
   ]
  },
  {
   "cell_type": "code",
   "execution_count": null,
   "id": "3d99f6ec",
   "metadata": {},
   "outputs": [],
   "source": []
  },
  {
   "cell_type": "code",
   "execution_count": 20,
   "id": "5ff1141d",
   "metadata": {},
   "outputs": [],
   "source": [
    "cap = cv.VideoCapture('resources/video.mp4')\n",
    "\n",
    "while(1):\n",
    "    ret, frame= cap.read()\n",
    "    if ret==True:\n",
    "        grey_frame = cvtColor(frame, cv.COLOR_BGR2GRAY)\n",
    "        (thresh, bitwise)= cv.threshold(grey_frame,126,205,cv.THRESH_BINARY)\n",
    "        cv.imshow(\"Window\",bitwise)\n",
    "        if cv.waitKey(43) & 0xff == ord('q'):\n",
    "            break\n",
    "    else:\n",
    "        break\n",
    "\n",
    "cap.release()\n",
    "cv.destroyAllWindows()"
   ]
  },
  {
   "cell_type": "code",
   "execution_count": null,
   "id": "592a17bd",
   "metadata": {},
   "outputs": [],
   "source": []
  },
  {
   "cell_type": "markdown",
   "id": "99e67aad",
   "metadata": {},
   "source": [
    "## Write video"
   ]
  },
  {
   "cell_type": "code",
   "execution_count": 28,
   "id": "2066c79e",
   "metadata": {},
   "outputs": [],
   "source": [
    "cap= cv.VideoCapture('resources/video.mp4')\n",
    "frame_height= int(cap.get(3))\n",
    "frame_width= int(cap.get(4))\n",
    "out= cv.VideoWriter('resources/new_vido.mp4',cv.VideoWriter_fourcc('M','J','P','G'),24,(frame_height,frame_width),isColor=False)\n",
    "while(1):\n",
    "    ret, frame= cap.read()\n",
    "    if ret == True:\n",
    "        gray_frame= cvtColor(frame,cv.COLOR_BGR2GRAY)\n",
    "        (thresh,bitwise)= cv.threshold(gray_frame,127,255,cv.THRESH_BINARY)\n",
    "        out.write(bitwise)\n",
    "        cv.imshow(\"Window\",bitwise)\n",
    "        if cv.waitKey(1) & 0xff == ord('q'):\n",
    "            break\n",
    "    else:\n",
    "        break\n",
    "        \n",
    "cap.release()\n",
    "out.release()\n",
    "cv.destroyAllWindows()"
   ]
  },
  {
   "cell_type": "code",
   "execution_count": null,
   "id": "689744bb",
   "metadata": {},
   "outputs": [],
   "source": []
  },
  {
   "cell_type": "code",
   "execution_count": null,
   "id": "ac1635d0",
   "metadata": {},
   "outputs": [],
   "source": []
  },
  {
   "cell_type": "code",
   "execution_count": null,
   "id": "e51e6511",
   "metadata": {},
   "outputs": [],
   "source": []
  }
 ],
 "metadata": {
  "kernelspec": {
   "display_name": "Python 3 (ipykernel)",
   "language": "python",
   "name": "python3"
  },
  "language_info": {
   "codemirror_mode": {
    "name": "ipython",
    "version": 3
   },
   "file_extension": ".py",
   "mimetype": "text/x-python",
   "name": "python",
   "nbconvert_exporter": "python",
   "pygments_lexer": "ipython3",
   "version": "3.10.2"
  }
 },
 "nbformat": 4,
 "nbformat_minor": 5
}
