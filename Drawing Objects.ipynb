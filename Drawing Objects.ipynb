{
 "cells": [
  {
   "cell_type": "code",
   "execution_count": 68,
   "id": "ec0adb96",
   "metadata": {},
   "outputs": [],
   "source": [
    "import cv2 as cv\n",
    "import numpy as np\n",
    "import textwrap "
   ]
  },
  {
   "cell_type": "markdown",
   "id": "ce476703",
   "metadata": {},
   "source": [
    "#### Black and White images generation"
   ]
  },
  {
   "cell_type": "code",
   "execution_count": 9,
   "id": "3370f881",
   "metadata": {},
   "outputs": [],
   "source": [
    "black_img=np.zeros((600,600))\n",
    "white_img=np.ones((600,600))"
   ]
  },
  {
   "cell_type": "code",
   "execution_count": 10,
   "id": "a53a8f11",
   "metadata": {},
   "outputs": [],
   "source": [
    "cv.imshow(\"Black\",black_img)\n",
    "cv.imshow(\"White\",white_img)\n",
    "cv.waitKey(0)\n",
    "cv.destroyAllWindows()"
   ]
  },
  {
   "cell_type": "markdown",
   "id": "4002ef89",
   "metadata": {},
   "source": [
    "##### Adding color to images"
   ]
  },
  {
   "cell_type": "code",
   "execution_count": 129,
   "id": "ff44e340",
   "metadata": {},
   "outputs": [],
   "source": [
    "img=np.ones((600,600,3))"
   ]
  },
  {
   "cell_type": "code",
   "execution_count": 130,
   "id": "0b370a36",
   "metadata": {
    "scrolled": true
   },
   "outputs": [
    {
     "data": {
      "text/plain": [
       "array([[[1., 1., 1.],\n",
       "        [1., 1., 1.]],\n",
       "\n",
       "       [[1., 1., 1.],\n",
       "        [1., 1., 1.]]])"
      ]
     },
     "execution_count": 130,
     "metadata": {},
     "output_type": "execute_result"
    }
   ],
   "source": [
    "img[300:302,300:302]"
   ]
  },
  {
   "cell_type": "code",
   "execution_count": 75,
   "id": "1ed13281",
   "metadata": {},
   "outputs": [],
   "source": [
    "img[:,:]=225,170,0 # all-sides of y, all-sides of x fill 270,0,44 color\n",
    "cv.imshow(\"Colored\",img)\n",
    "cv.waitKey(0)\n",
    "cv.destroyAllWindows()"
   ]
  },
  {
   "cell_type": "code",
   "execution_count": 131,
   "id": "33ad52aa",
   "metadata": {},
   "outputs": [],
   "source": [
    "img[:,:]=0,170,210 "
   ]
  },
  {
   "cell_type": "code",
   "execution_count": 83,
   "id": "98f6a3ad",
   "metadata": {
    "scrolled": false
   },
   "outputs": [
    {
     "data": {
      "text/plain": [
       "array([[[  0., 170., 210.],\n",
       "        [  0., 170., 210.],\n",
       "        [  0., 170., 210.],\n",
       "        [  0., 170., 210.]],\n",
       "\n",
       "       [[  0., 170., 210.],\n",
       "        [  0., 170., 210.],\n",
       "        [  0., 170., 210.],\n",
       "        [  0., 170., 210.]]])"
      ]
     },
     "execution_count": 83,
     "metadata": {},
     "output_type": "execute_result"
    }
   ],
   "source": [
    "img[90:92,20:24]"
   ]
  },
  {
   "cell_type": "code",
   "execution_count": 132,
   "id": "d0e1c623",
   "metadata": {},
   "outputs": [],
   "source": [
    "img[300:400,:]=255,0,210 \n",
    "cv.imshow(\"Part Colored\",img)\n",
    "cv.waitKey(0)\n",
    "cv.destroyAllWindows()"
   ]
  },
  {
   "cell_type": "markdown",
   "id": "d855892e",
   "metadata": {},
   "source": [
    "#### Adding lines"
   ]
  },
  {
   "cell_type": "code",
   "execution_count": 158,
   "id": "6f6a8b56",
   "metadata": {},
   "outputs": [],
   "source": [
    "cv.line(img,(0,0),(600,600),(255,0,0),2)\n",
    "cv.line(img,(0,0),(100,60),(25,20,0),2)\n",
    "cv.line(img,(350,350),(450,450),(250,20,0),2)\n",
    "cv.imshow(\"Lined image\",img)\n",
    "cv.waitKey(0)\n",
    "cv.destroyAllWindows()"
   ]
  },
  {
   "cell_type": "code",
   "execution_count": 161,
   "id": "96269be8",
   "metadata": {},
   "outputs": [],
   "source": [
    "n_img=np.ones((600,600,3))\n",
    "n_img[:,:]=123,10,0\n",
    "cv.line(n_img,(0,0),((n_img.shape[0]),(n_img.shape[1])),(0,0,0),15)\n",
    "cv.imshow(\"Img\",n_img)\n",
    "cv.waitKey(0)\n",
    "cv.destroyAllWindows()"
   ]
  },
  {
   "cell_type": "code",
   "execution_count": 162,
   "id": "e117b251",
   "metadata": {},
   "outputs": [
    {
     "data": {
      "text/plain": [
       "1080000"
      ]
     },
     "execution_count": 162,
     "metadata": {},
     "output_type": "execute_result"
    }
   ],
   "source": [
    "n_img.size"
   ]
  },
  {
   "cell_type": "code",
   "execution_count": 163,
   "id": "d0942c29",
   "metadata": {},
   "outputs": [
    {
     "data": {
      "text/plain": [
       "(600, 600, 3)"
      ]
     },
     "execution_count": 163,
     "metadata": {},
     "output_type": "execute_result"
    }
   ],
   "source": [
    "n_img.shape"
   ]
  },
  {
   "cell_type": "markdown",
   "id": "c77721a1",
   "metadata": {},
   "source": [
    "### Adding Rectangles"
   ]
  },
  {
   "cell_type": "code",
   "execution_count": 32,
   "id": "f2f63ff5",
   "metadata": {},
   "outputs": [],
   "source": [
    "n_img=np.ones((600,600,3))\n",
    "n_img[:,:]=0,5,25\n",
    "cv.rectangle(n_img,(22,22),(244,224),(210,2,3),cv.FILLED) #don't provede thickness pram when fill\n",
    "cv.imshow(\"Img\",n_img)\n",
    "cv.waitKey(0)\n",
    "cv.destroyAllWindows()"
   ]
  },
  {
   "cell_type": "markdown",
   "id": "45071ebd",
   "metadata": {},
   "source": [
    "#### Adding Circles"
   ]
  },
  {
   "cell_type": "code",
   "execution_count": 45,
   "id": "0a30bea1",
   "metadata": {},
   "outputs": [],
   "source": [
    "n_img=np.ones((600,600,3))\n",
    "n_img[:,:]=0,5,25\n",
    "n_img=cv.circle(n_img,(300,300),50,(22,22,22),3)\n",
    "cv.circle(n_circle,(300,300),50,(22,22,22),cv.FILLED)\n",
    "cv.imshow(\"Img\",n_img)\n",
    "cv.imshow(\"Circle\",n_circle)\n",
    "cv.waitKey(0)\n",
    "cv.destroyAllWindows()"
   ]
  },
  {
   "cell_type": "markdown",
   "id": "50d1cd6b",
   "metadata": {},
   "source": [
    "#### Adding Text"
   ]
  },
  {
   "cell_type": "code",
   "execution_count": 61,
   "id": "e7f2e552",
   "metadata": {},
   "outputs": [],
   "source": [
    "text=\"This is text\\n this isn't text\""
   ]
  },
  {
   "cell_type": "code",
   "execution_count": 66,
   "id": "27ca3ed9",
   "metadata": {},
   "outputs": [],
   "source": [
    "n_img=np.ones((600,600,3),dtype='uint8')\n",
    "n_img[:,:]=0,5,25\n",
    "y0, dy = 200, 200\n",
    "for i,line in enumerate(text.split(\"\\n\")):\n",
    "    y = y0 + i*dy\n",
    "    cv.putText(n_img,line,(50,y),cv.FONT_HERSHEY_COMPLEX_SMALL,1,(0,255,0),2)\n",
    "cv.imshow(\"Img\",n_img)\n",
    "cv.waitKey(0)\n",
    "cv.destroyAllWindows()"
   ]
  },
  {
   "cell_type": "code",
   "execution_count": null,
   "id": "3e1b929d",
   "metadata": {},
   "outputs": [],
   "source": []
  }
 ],
 "metadata": {
  "kernelspec": {
   "display_name": "Python 3 (ipykernel)",
   "language": "python",
   "name": "python3"
  },
  "language_info": {
   "codemirror_mode": {
    "name": "ipython",
    "version": 3
   },
   "file_extension": ".py",
   "mimetype": "text/x-python",
   "name": "python",
   "nbconvert_exporter": "python",
   "pygments_lexer": "ipython3",
   "version": "3.10.2"
  }
 },
 "nbformat": 4,
 "nbformat_minor": 5
}
